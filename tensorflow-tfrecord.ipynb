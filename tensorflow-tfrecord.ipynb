{
 "cells": [
  {
   "cell_type": "markdown",
   "id": "713c2613",
   "metadata": {
    "_cell_guid": "b1076dfc-b9ad-4769-8c92-a6c4dae69d19",
    "_uuid": "8f2839f25d086af736a60e9eeb907d3b93b6e0e5",
    "papermill": {
     "duration": 0.002157,
     "end_time": "2024-05-20T13:06:38.124895",
     "exception": false,
     "start_time": "2024-05-20T13:06:38.122738",
     "status": "completed"
    },
    "tags": []
   },
   "source": [
    "https://www.tensorflow.org/tutorials/load_data/tfrecord"
   ]
  },
  {
   "cell_type": "code",
   "execution_count": 1,
   "id": "57bf8567",
   "metadata": {
    "execution": {
     "iopub.execute_input": "2024-05-20T13:06:38.130447Z",
     "iopub.status.busy": "2024-05-20T13:06:38.129821Z",
     "iopub.status.idle": "2024-05-20T13:06:52.463373Z",
     "shell.execute_reply": "2024-05-20T13:06:52.462195Z"
    },
    "papermill": {
     "duration": 14.339557,
     "end_time": "2024-05-20T13:06:52.466312",
     "exception": false,
     "start_time": "2024-05-20T13:06:38.126755",
     "status": "completed"
    },
    "tags": []
   },
   "outputs": [
    {
     "name": "stderr",
     "output_type": "stream",
     "text": [
      "2024-05-20 13:06:40.370501: E external/local_xla/xla/stream_executor/cuda/cuda_dnn.cc:9261] Unable to register cuDNN factory: Attempting to register factory for plugin cuDNN when one has already been registered\n",
      "2024-05-20 13:06:40.370628: E external/local_xla/xla/stream_executor/cuda/cuda_fft.cc:607] Unable to register cuFFT factory: Attempting to register factory for plugin cuFFT when one has already been registered\n",
      "2024-05-20 13:06:40.550134: E external/local_xla/xla/stream_executor/cuda/cuda_blas.cc:1515] Unable to register cuBLAS factory: Attempting to register factory for plugin cuBLAS when one has already been registered\n"
     ]
    }
   ],
   "source": [
    "import tensorflow as tf\n",
    "\n",
    "import numpy as np\n",
    "import IPython.display as display"
   ]
  }
 ],
 "metadata": {
  "kaggle": {
   "accelerator": "none",
   "dataSources": [],
   "isGpuEnabled": false,
   "isInternetEnabled": true,
   "language": "python",
   "sourceType": "notebook"
  },
  "kernelspec": {
   "display_name": "Python 3",
   "language": "python",
   "name": "python3"
  },
  "language_info": {
   "codemirror_mode": {
    "name": "ipython",
    "version": 3
   },
   "file_extension": ".py",
   "mimetype": "text/x-python",
   "name": "python",
   "nbconvert_exporter": "python",
   "pygments_lexer": "ipython3",
   "version": "3.10.13"
  },
  "papermill": {
   "default_parameters": {},
   "duration": 18.571947,
   "end_time": "2024-05-20T13:06:53.791447",
   "environment_variables": {},
   "exception": null,
   "input_path": "__notebook__.ipynb",
   "output_path": "__notebook__.ipynb",
   "parameters": {},
   "start_time": "2024-05-20T13:06:35.219500",
   "version": "2.5.0"
  }
 },
 "nbformat": 4,
 "nbformat_minor": 5
}
