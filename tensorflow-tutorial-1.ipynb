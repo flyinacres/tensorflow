{
 "cells": [
  {
   "cell_type": "markdown",
   "id": "01b367b0",
   "metadata": {
    "papermill": {
     "duration": 0.002285,
     "end_time": "2024-05-11T05:13:32.134907",
     "exception": false,
     "start_time": "2024-05-11T05:13:32.132622",
     "status": "completed"
    },
    "tags": []
   },
   "source": [
    "https://www.tensorflow.org/tutorials/quickstart/beginner"
   ]
  },
  {
   "cell_type": "code",
   "execution_count": 1,
   "id": "40ac28d3",
   "metadata": {
    "execution": {
     "iopub.execute_input": "2024-05-11T05:13:32.140636Z",
     "iopub.status.busy": "2024-05-11T05:13:32.139932Z",
     "iopub.status.idle": "2024-05-11T05:13:46.173650Z",
     "shell.execute_reply": "2024-05-11T05:13:46.172756Z"
    },
    "papermill": {
     "duration": 14.039103,
     "end_time": "2024-05-11T05:13:46.175881",
     "exception": false,
     "start_time": "2024-05-11T05:13:32.136778",
     "status": "completed"
    },
    "tags": []
   },
   "outputs": [
    {
     "name": "stderr",
     "output_type": "stream",
     "text": [
      "2024-05-11 05:13:34.123138: E external/local_xla/xla/stream_executor/cuda/cuda_dnn.cc:9261] Unable to register cuDNN factory: Attempting to register factory for plugin cuDNN when one has already been registered\n",
      "2024-05-11 05:13:34.123264: E external/local_xla/xla/stream_executor/cuda/cuda_fft.cc:607] Unable to register cuFFT factory: Attempting to register factory for plugin cuFFT when one has already been registered\n",
      "2024-05-11 05:13:34.261655: E external/local_xla/xla/stream_executor/cuda/cuda_blas.cc:1515] Unable to register cuBLAS factory: Attempting to register factory for plugin cuBLAS when one has already been registered\n"
     ]
    },
    {
     "name": "stdout",
     "output_type": "stream",
     "text": [
      "TensorFlow version: 2.15.0\n"
     ]
    }
   ],
   "source": [
    "import tensorflow as tf\n",
    "print(\"TensorFlow version:\", tf.__version__)"
   ]
  }
 ],
 "metadata": {
  "kaggle": {
   "accelerator": "none",
   "dataSources": [],
   "dockerImageVersionId": 30698,
   "isGpuEnabled": false,
   "isInternetEnabled": true,
   "language": "python",
   "sourceType": "notebook"
  },
  "kernelspec": {
   "display_name": "Python 3",
   "language": "python",
   "name": "python3"
  },
  "language_info": {
   "codemirror_mode": {
    "name": "ipython",
    "version": 3
   },
   "file_extension": ".py",
   "mimetype": "text/x-python",
   "name": "python",
   "nbconvert_exporter": "python",
   "pygments_lexer": "ipython3",
   "version": "3.10.13"
  },
  "papermill": {
   "default_parameters": {},
   "duration": 18.367424,
   "end_time": "2024-05-11T05:13:47.611207",
   "environment_variables": {},
   "exception": null,
   "input_path": "__notebook__.ipynb",
   "output_path": "__notebook__.ipynb",
   "parameters": {},
   "start_time": "2024-05-11T05:13:29.243783",
   "version": "2.5.0"
  }
 },
 "nbformat": 4,
 "nbformat_minor": 5
}
